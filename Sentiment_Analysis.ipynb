{
  "nbformat": 4,
  "nbformat_minor": 0,
  "metadata": {
    "colab": {
      "name": "Sentiment_Analysis",
      "provenance": [],
      "collapsed_sections": []
    },
    "kernelspec": {
      "name": "python3",
      "display_name": "Python 3"
    },
    "language_info": {
      "name": "python"
    }
  },
  "cells": [
    {
      "cell_type": "markdown",
      "metadata": {
        "id": "TuHt5sNOfo4D"
      },
      "source": [
        "**Mount Google Drive**"
      ]
    },
    {
      "cell_type": "code",
      "metadata": {
        "id": "gMzVQgqZe3Xq"
      },
      "source": [
        "from google.colab import drive\n",
        "drive.mount('/content/drive')\n",
        "\n",
        "%cd /content/drive/MyDrive/Sentiment_Training"
      ],
      "execution_count": null,
      "outputs": []
    },
    {
      "cell_type": "markdown",
      "metadata": {
        "id": "fbekdNl5frT1"
      },
      "source": [
        "**Retrieving the Dataset**"
      ]
    },
    {
      "cell_type": "code",
      "metadata": {
        "id": "jTMeb3etcmYv",
        "colab": {
          "base_uri": "https://localhost:8080/"
        },
        "outputId": "e8490bf9-a71c-4d75-ea24-75c764282339"
      },
      "source": [
        "!wget https://s3.amazonaws.com/fast-ai-nlp/amazon_review_full_csv.tgz\n",
        "!tar -xvzf amazon_review_full_csv.tgz"
      ],
      "execution_count": 2,
      "outputs": [
        {
          "output_type": "stream",
          "name": "stdout",
          "text": [
            "--2021-11-24 03:32:06--  https://s3.amazonaws.com/fast-ai-nlp/amazon_review_full_csv.tgz\n",
            "Resolving s3.amazonaws.com (s3.amazonaws.com)... 52.217.200.80\n",
            "Connecting to s3.amazonaws.com (s3.amazonaws.com)|52.217.200.80|:443... connected.\n",
            "HTTP request sent, awaiting response... 200 OK\n",
            "Length: 643695014 (614M) [application/x-tar]\n",
            "Saving to: ‘amazon_review_full_csv.tgz.7’\n",
            "\n",
            "amazon_review_full_ 100%[===================>] 613.88M  15.8MB/s    in 64s     \n",
            "\n",
            "2021-11-24 03:33:11 (9.55 MB/s) - ‘amazon_review_full_csv.tgz.7’ saved [643695014/643695014]\n",
            "\n",
            "amazon_review_full_csv/\n",
            "amazon_review_full_csv/train.csv\n",
            "amazon_review_full_csv/readme.txt\n",
            "amazon_review_full_csv/test.csv\n"
          ]
        }
      ]
    },
    {
      "cell_type": "markdown",
      "metadata": {
        "id": "U-MW8UxygLH1"
      },
      "source": [
        "**Analyzing the Dataset**"
      ]
    },
    {
      "cell_type": "markdown",
      "metadata": {
        "id": "F3AAxxqvjkcH"
      },
      "source": [
        "*Reading the Dataset*"
      ]
    },
    {
      "cell_type": "code",
      "metadata": {
        "colab": {
          "base_uri": "https://localhost:8080/",
          "height": 206
        },
        "id": "zssfUq7qgJf3",
        "outputId": "39d791c1-d708-4103-cba9-94c873519e73"
      },
      "source": [
        "import pandas\n",
        "\n",
        "data = pandas.read_csv('amazon_review_full_csv/train.csv', nrows=100000)\n",
        "data.head()"
      ],
      "execution_count": 30,
      "outputs": [
        {
          "output_type": "execute_result",
          "data": {
            "text/html": [
              "<div>\n",
              "<style scoped>\n",
              "    .dataframe tbody tr th:only-of-type {\n",
              "        vertical-align: middle;\n",
              "    }\n",
              "\n",
              "    .dataframe tbody tr th {\n",
              "        vertical-align: top;\n",
              "    }\n",
              "\n",
              "    .dataframe thead th {\n",
              "        text-align: right;\n",
              "    }\n",
              "</style>\n",
              "<table border=\"1\" class=\"dataframe\">\n",
              "  <thead>\n",
              "    <tr style=\"text-align: right;\">\n",
              "      <th></th>\n",
              "      <th>3</th>\n",
              "      <th>more like funchuck</th>\n",
              "      <th>Gave this to my dad for a gag gift after directing \"Nunsense,\" he got a reall kick out of it!</th>\n",
              "    </tr>\n",
              "  </thead>\n",
              "  <tbody>\n",
              "    <tr>\n",
              "      <th>0</th>\n",
              "      <td>5</td>\n",
              "      <td>Inspiring</td>\n",
              "      <td>I hope a lot of people hear this cd. We need m...</td>\n",
              "    </tr>\n",
              "    <tr>\n",
              "      <th>1</th>\n",
              "      <td>5</td>\n",
              "      <td>The best soundtrack ever to anything.</td>\n",
              "      <td>I'm reading a lot of reviews saying that this ...</td>\n",
              "    </tr>\n",
              "    <tr>\n",
              "      <th>2</th>\n",
              "      <td>4</td>\n",
              "      <td>Chrono Cross OST</td>\n",
              "      <td>The music of Yasunori Misuda is without questi...</td>\n",
              "    </tr>\n",
              "    <tr>\n",
              "      <th>3</th>\n",
              "      <td>5</td>\n",
              "      <td>Too good to be true</td>\n",
              "      <td>Probably the greatest soundtrack in history! U...</td>\n",
              "    </tr>\n",
              "    <tr>\n",
              "      <th>4</th>\n",
              "      <td>5</td>\n",
              "      <td>There's a reason for the price</td>\n",
              "      <td>There's a reason this CD is so expensive, even...</td>\n",
              "    </tr>\n",
              "  </tbody>\n",
              "</table>\n",
              "</div>"
            ],
            "text/plain": [
              "   3  ... Gave this to my dad for a gag gift after directing \"Nunsense,\" he got a reall kick out of it!\n",
              "0  5  ...  I hope a lot of people hear this cd. We need m...                                           \n",
              "1  5  ...  I'm reading a lot of reviews saying that this ...                                           \n",
              "2  4  ...  The music of Yasunori Misuda is without questi...                                           \n",
              "3  5  ...  Probably the greatest soundtrack in history! U...                                           \n",
              "4  5  ...  There's a reason this CD is so expensive, even...                                           \n",
              "\n",
              "[5 rows x 3 columns]"
            ]
          },
          "metadata": {},
          "execution_count": 30
        }
      ]
    },
    {
      "cell_type": "code",
      "metadata": {
        "colab": {
          "base_uri": "https://localhost:8080/"
        },
        "id": "JJCt_QL9llIt",
        "outputId": "a34171cd-9f64-4f14-8f78-f595676ce451"
      },
      "source": [
        "len(data)"
      ],
      "execution_count": 31,
      "outputs": [
        {
          "output_type": "execute_result",
          "data": {
            "text/plain": [
              "100000"
            ]
          },
          "metadata": {},
          "execution_count": 31
        }
      ]
    },
    {
      "cell_type": "markdown",
      "metadata": {
        "id": "gO7Ic7YUhKcd"
      },
      "source": [
        "**Processing**"
      ]
    },
    {
      "cell_type": "code",
      "metadata": {
        "colab": {
          "base_uri": "https://localhost:8080/",
          "height": 310
        },
        "id": "hQOceVfzhMwT",
        "outputId": "be8967bf-b6e3-4587-8c9b-175e57610301"
      },
      "source": [
        "# Assigning Column Names\n",
        "data.columns = [\"score\", \"title\", \"text\"]\n",
        "\n",
        "# Lower Casing\n",
        "data[\"title\"] = data[\"title\"].str.lower()\n",
        "data[\"text\"] = data[\"text\"].str.lower()\n",
        "\n",
        "print(data.score.value_counts())\n",
        "data.head()"
      ],
      "execution_count": 32,
      "outputs": [
        {
          "output_type": "stream",
          "name": "stdout",
          "text": [
            "3    20557\n",
            "5    20161\n",
            "2    20107\n",
            "4    19986\n",
            "1    19189\n",
            "Name: score, dtype: int64\n"
          ]
        },
        {
          "output_type": "execute_result",
          "data": {
            "text/html": [
              "<div>\n",
              "<style scoped>\n",
              "    .dataframe tbody tr th:only-of-type {\n",
              "        vertical-align: middle;\n",
              "    }\n",
              "\n",
              "    .dataframe tbody tr th {\n",
              "        vertical-align: top;\n",
              "    }\n",
              "\n",
              "    .dataframe thead th {\n",
              "        text-align: right;\n",
              "    }\n",
              "</style>\n",
              "<table border=\"1\" class=\"dataframe\">\n",
              "  <thead>\n",
              "    <tr style=\"text-align: right;\">\n",
              "      <th></th>\n",
              "      <th>score</th>\n",
              "      <th>title</th>\n",
              "      <th>text</th>\n",
              "    </tr>\n",
              "  </thead>\n",
              "  <tbody>\n",
              "    <tr>\n",
              "      <th>0</th>\n",
              "      <td>5</td>\n",
              "      <td>inspiring</td>\n",
              "      <td>i hope a lot of people hear this cd. we need m...</td>\n",
              "    </tr>\n",
              "    <tr>\n",
              "      <th>1</th>\n",
              "      <td>5</td>\n",
              "      <td>the best soundtrack ever to anything.</td>\n",
              "      <td>i'm reading a lot of reviews saying that this ...</td>\n",
              "    </tr>\n",
              "    <tr>\n",
              "      <th>2</th>\n",
              "      <td>4</td>\n",
              "      <td>chrono cross ost</td>\n",
              "      <td>the music of yasunori misuda is without questi...</td>\n",
              "    </tr>\n",
              "    <tr>\n",
              "      <th>3</th>\n",
              "      <td>5</td>\n",
              "      <td>too good to be true</td>\n",
              "      <td>probably the greatest soundtrack in history! u...</td>\n",
              "    </tr>\n",
              "    <tr>\n",
              "      <th>4</th>\n",
              "      <td>5</td>\n",
              "      <td>there's a reason for the price</td>\n",
              "      <td>there's a reason this cd is so expensive, even...</td>\n",
              "    </tr>\n",
              "  </tbody>\n",
              "</table>\n",
              "</div>"
            ],
            "text/plain": [
              "   score  ...                                               text\n",
              "0      5  ...  i hope a lot of people hear this cd. we need m...\n",
              "1      5  ...  i'm reading a lot of reviews saying that this ...\n",
              "2      4  ...  the music of yasunori misuda is without questi...\n",
              "3      5  ...  probably the greatest soundtrack in history! u...\n",
              "4      5  ...  there's a reason this cd is so expensive, even...\n",
              "\n",
              "[5 rows x 3 columns]"
            ]
          },
          "metadata": {},
          "execution_count": 32
        }
      ]
    },
    {
      "cell_type": "code",
      "metadata": {
        "id": "kUNluAkrvqYE"
      },
      "source": [
        "!python3 -m spacy download en_core_web_sm"
      ],
      "execution_count": null,
      "outputs": []
    },
    {
      "cell_type": "markdown",
      "metadata": {
        "id": "Y3OZ2KOXz4xK"
      },
      "source": [
        "Define Tokenize & Lemma-ize Function & Basic Filtering + Remove Stopwords"
      ]
    },
    {
      "cell_type": "code",
      "metadata": {
        "id": "og_aUBwPzbcN"
      },
      "source": [
        "import re\n",
        "import spacy\n",
        "\n",
        "nlp = spacy.load(\"en_core_web_sm\")\n",
        "tokenizer = nlp.tokenizer\n",
        "nlp.Defaults.stop_words |= { \"book\", \"movie\", \"film\" }\n",
        "\n",
        "def tokenize(text):\n",
        "  text = re.sub(r'\\b(\\d+)\\b', '', str(text))\n",
        "  tokenized_text = tokenizer(text)\n",
        "  based_text = [token.lemma_ for token in tokenized_text if not token.is_punct and not token.is_stop]\n",
        "\n",
        "  return based_text"
      ],
      "execution_count": 33,
      "outputs": []
    },
    {
      "cell_type": "markdown",
      "metadata": {
        "id": "YVqjDvhvAZzT"
      },
      "source": [
        "Merge Title & Text Columns, Tokenize/Lemma-ize"
      ]
    },
    {
      "cell_type": "code",
      "metadata": {
        "colab": {
          "base_uri": "https://localhost:8080/",
          "height": 206
        },
        "id": "MLEsN88JKCN6",
        "outputId": "5fb6e02e-82c2-4bea-ec86-5a8923cd2d6b"
      },
      "source": [
        "data.text = data.title + \" \" + data.text\n",
        "data.drop(columns='title', inplace=True)\n",
        "\n",
        "data.text = data.text.apply(tokenize)\n",
        "data.head()"
      ],
      "execution_count": 34,
      "outputs": [
        {
          "output_type": "execute_result",
          "data": {
            "text/html": [
              "<div>\n",
              "<style scoped>\n",
              "    .dataframe tbody tr th:only-of-type {\n",
              "        vertical-align: middle;\n",
              "    }\n",
              "\n",
              "    .dataframe tbody tr th {\n",
              "        vertical-align: top;\n",
              "    }\n",
              "\n",
              "    .dataframe thead th {\n",
              "        text-align: right;\n",
              "    }\n",
              "</style>\n",
              "<table border=\"1\" class=\"dataframe\">\n",
              "  <thead>\n",
              "    <tr style=\"text-align: right;\">\n",
              "      <th></th>\n",
              "      <th>score</th>\n",
              "      <th>text</th>\n",
              "    </tr>\n",
              "  </thead>\n",
              "  <tbody>\n",
              "    <tr>\n",
              "      <th>0</th>\n",
              "      <td>5</td>\n",
              "      <td>[inspire, hope, lot, people, hear, cd, need, s...</td>\n",
              "    </tr>\n",
              "    <tr>\n",
              "      <th>1</th>\n",
              "      <td>5</td>\n",
              "      <td>[well, soundtrack, read, lot, review, say, wel...</td>\n",
              "    </tr>\n",
              "    <tr>\n",
              "      <th>2</th>\n",
              "      <td>4</td>\n",
              "      <td>[chrono, cross, ost, music, yasunori, misuda, ...</td>\n",
              "    </tr>\n",
              "    <tr>\n",
              "      <th>3</th>\n",
              "      <td>5</td>\n",
              "      <td>[good, true, probably, great, soundtrack, hist...</td>\n",
              "    </tr>\n",
              "    <tr>\n",
              "      <th>4</th>\n",
              "      <td>5</td>\n",
              "      <td>[reason, price, reason, cd, expensive, version...</td>\n",
              "    </tr>\n",
              "  </tbody>\n",
              "</table>\n",
              "</div>"
            ],
            "text/plain": [
              "   score                                               text\n",
              "0      5  [inspire, hope, lot, people, hear, cd, need, s...\n",
              "1      5  [well, soundtrack, read, lot, review, say, wel...\n",
              "2      4  [chrono, cross, ost, music, yasunori, misuda, ...\n",
              "3      5  [good, true, probably, great, soundtrack, hist...\n",
              "4      5  [reason, price, reason, cd, expensive, version..."
            ]
          },
          "metadata": {},
          "execution_count": 34
        }
      ]
    },
    {
      "cell_type": "markdown",
      "metadata": {
        "id": "X4-BX9m9Geby"
      },
      "source": [
        "Get Most Frequently Appearing Vocabulary + Word Indexing\n",
        "\n"
      ]
    },
    {
      "cell_type": "code",
      "metadata": {
        "id": "lYs9NVGqKIWO"
      },
      "source": [
        "data[\"liststring\"] = data.text.apply(lambda x: ' '.join(map(str, x)))"
      ],
      "execution_count": 35,
      "outputs": []
    },
    {
      "cell_type": "code",
      "metadata": {
        "colab": {
          "base_uri": "https://localhost:8080/"
        },
        "id": "TOGpbHhgiOMo",
        "outputId": "a875c2d0-e1be-4d69-a34f-9901e9fcebe7"
      },
      "source": [
        "from tensorflow.keras.preprocessing.text import Tokenizer\n",
        "\n",
        "MAX_VOCAB_COUNT = 700\n",
        "\n",
        "tf_tokenizer = Tokenizer(num_words=MAX_VOCAB_COUNT, oov_token=\"<unk>\")\n",
        "tf_tokenizer.fit_on_texts(data.liststring.to_list())\n",
        "word_index = tf_tokenizer.word_index\n",
        "\n",
        "print(list(word_index)[:10])"
      ],
      "execution_count": 54,
      "outputs": [
        {
          "output_type": "stream",
          "name": "stdout",
          "text": [
            "['<unk>', 'like', 'good', 'read', 'great', 'well', 'time', 'buy', 'think', 'love']\n"
          ]
        }
      ]
    },
    {
      "cell_type": "code",
      "metadata": {
        "colab": {
          "base_uri": "https://localhost:8080/"
        },
        "id": "Zd_YEge1qYGa",
        "outputId": "24bf4c50-ccf9-4b74-fac3-c65be17b8e3d"
      },
      "source": [
        "most_frequent_vocab = pandas.Series(\" \".join(data.liststring).split()).value_counts()[:MAX_VOCAB_COUNT]\n",
        "print(most_frequent_vocab)"
      ],
      "execution_count": 37,
      "outputs": [
        {
          "output_type": "stream",
          "name": "stdout",
          "text": [
            "like      36091\n",
            "good      35665\n",
            "read      34349\n",
            "great     30606\n",
            "well      25881\n",
            "          ...  \n",
            "seller      855\n",
            "limit       853\n",
            "aspect      853\n",
            "advice      852\n",
            "genre       850\n",
            "Length: 700, dtype: int64\n"
          ]
        }
      ]
    },
    {
      "cell_type": "code",
      "metadata": {
        "colab": {
          "base_uri": "https://localhost:8080/",
          "height": 248
        },
        "id": "wDzGlr5-Rlqa",
        "outputId": "a4752d18-cd42-4e8c-a1e6-32ad3aacbb5f"
      },
      "source": [
        "import matplotlib.pyplot as plt\n",
        "import wordcloud\n",
        "\n",
        "wcloud = wordcloud.WordCloud(width = 500, height = 500, max_font_size = 100)\n",
        "wcloud.generate_from_frequencies(most_frequent_vocab.to_dict())\n",
        "plt.imshow(wcloud)\n",
        "plt.axis('off')\n",
        "plt.show()"
      ],
      "execution_count": 38,
      "outputs": [
        {
          "output_type": "display_data",
          "data": {
            "image/png": "[encoded data removed]",
            "text/plain": [
              "<Figure size 432x288 with 1 Axes>"
            ]
          },
          "metadata": {
            "needs_background": "light"
          }
        }
      ]
    },
    {
      "cell_type": "markdown",
      "metadata": {
        "id": "Yvh2NxU9dx3K"
      },
      "source": [
        "**Final Processing**"
      ]
    },
    {
      "cell_type": "code",
      "metadata": {
        "id": "q7ZOEi0RLkaO"
      },
      "source": [
        "# Multiclass Classification\n",
        "data['score'] = data.score.apply(lambda x: 0 if x in [1, 2] else x)\n",
        "data['score'] = data.score.apply(lambda x: 1 if x in [3] else x)\n",
        "data['score'] = data.score.apply(lambda x: 2 if x in [4, 5] else x)"
      ],
      "execution_count": 13,
      "outputs": []
    },
    {
      "cell_type": "code",
      "metadata": {
        "id": "USJEVZlj0kLK"
      },
      "source": [
        "# Binary Classification\n",
        "data['score'] = data.score.apply(lambda x: 0 if x in [1, 2, 3] else 1)"
      ],
      "execution_count": 39,
      "outputs": []
    },
    {
      "cell_type": "code",
      "metadata": {
        "id": "kWoilxe6nKMY"
      },
      "source": [
        "data.score.value_counts()"
      ],
      "execution_count": null,
      "outputs": []
    },
    {
      "cell_type": "code",
      "metadata": {
        "id": "FDcuajYEbqWq"
      },
      "source": [
        "import numpy\n",
        "\n",
        "text_list = data.text.to_list()\n",
        "label_list = numpy.asarray(data.score.to_list())"
      ],
      "execution_count": 40,
      "outputs": []
    },
    {
      "cell_type": "code",
      "metadata": {
        "colab": {
          "base_uri": "https://localhost:8080/"
        },
        "id": "rhh7qBqyhQX_",
        "outputId": "3b1d7aac-ece9-4add-f83a-546649946175"
      },
      "source": [
        "print(text_list[:1])\n",
        "print(label_list[:1])"
      ],
      "execution_count": 56,
      "outputs": [
        {
          "output_type": "stream",
          "name": "stdout",
          "text": [
            "[['inspire', 'hope', 'lot', 'people', 'hear', 'cd', 'need', 'strong', 'positive', 'vibes', 'like', 'great', 'vocal', 'fresh', 'tune', 'cross', 'cultural', 'happiness', 'blue', 'gut', 'pop', 'sound', 'catchy', 'mature']]\n",
            "[1]\n"
          ]
        }
      ]
    },
    {
      "cell_type": "code",
      "metadata": {
        "id": "n6QNcTqjfiLH",
        "colab": {
          "base_uri": "https://localhost:8080/"
        },
        "outputId": "94e228c6-583c-49dd-c0b9-5bcda5670d98"
      },
      "source": [
        "import tensorflow\n",
        "from tensorflow.keras.preprocessing.sequence import pad_sequences\n",
        "\n",
        "max_length = 50\n",
        "\n",
        "indexed_text = tf_tokenizer.texts_to_sequences(text_list)\n",
        "rectangularized = pad_sequences(indexed_text, maxlen=max_length, truncating='post')\n",
        "\n",
        "tf_text = tensorflow.convert_to_tensor(rectangularized)\n",
        "print(tf_text)"
      ],
      "execution_count": 57,
      "outputs": [
        {
          "output_type": "stream",
          "name": "stdout",
          "text": [
            "tf.Tensor(\n",
            "[[  0   0   0 ...  45   1   1]\n",
            " [  0   0   0 ...  38  67   1]\n",
            " [  0   0   0 ...   1  49 101]\n",
            " ...\n",
            " [  0   0   0 ... 208 688   1]\n",
            " [ 44   1 320 ...   1   1   1]\n",
            " [  0   0   0 ... 186 116   1]], shape=(100000, 50), dtype=int32)\n"
          ]
        }
      ]
    },
    {
      "cell_type": "code",
      "metadata": {
        "id": "qeeTCqKoy_wW"
      },
      "source": [
        "split = round(len(data)*0.7)\n",
        "\n",
        "training_texts = tf_text[:split]\n",
        "training_labels = label_list[:split]\n",
        "\n",
        "validation_texts = tf_text[split:]\n",
        "validation_labels = label_list[split:]"
      ],
      "execution_count": 43,
      "outputs": []
    },
    {
      "cell_type": "markdown",
      "metadata": {
        "id": "fFzAG1C7MCWW"
      },
      "source": [
        "**Model Training - Categorical**"
      ]
    },
    {
      "cell_type": "code",
      "metadata": {
        "colab": {
          "base_uri": "https://localhost:8080/"
        },
        "id": "R3JRdxm9_NOA",
        "outputId": "587a01e1-edf2-46ab-e2fb-43b2f4830fb2"
      },
      "source": [
        "hot_encoded = tensorflow.keras.utils.to_categorical(training_labels)\n",
        "validation_hot_encoded = tensorflow.keras.utils.to_categorical(validation_labels)\n",
        "\n",
        "print(hot_encoded[:5])"
      ],
      "execution_count": 22,
      "outputs": [
        {
          "output_type": "stream",
          "name": "stdout",
          "text": [
            "[[0. 0. 1.]\n",
            " [0. 0. 1.]\n",
            " [0. 0. 1.]\n",
            " [0. 0. 1.]\n",
            " [0. 0. 1.]]\n"
          ]
        }
      ]
    },
    {
      "cell_type": "code",
      "metadata": {
        "id": "fHVDWfSI3jpB",
        "colab": {
          "base_uri": "https://localhost:8080/"
        },
        "outputId": "90bdb661-29bc-4b69-c30c-4b5679a5464b"
      },
      "source": [
        "tensorflow.keras.backend.clear_session()\n",
        "\n",
        "model = tensorflow.keras.models.Sequential()\n",
        "model.add(tensorflow.keras.layers.Embedding(MAX_VOCAB_COUNT, 16, input_length=max_length))\n",
        "model.add(tensorflow.keras.layers.Conv1D(128, 5, activation='relu'))\n",
        "model.add(tensorflow.keras.layers.GlobalAveragePooling1D())\n",
        "model.add(tensorflow.keras.layers.Dense(64, activation=tensorflow.nn.relu))\n",
        "model.add(tensorflow.keras.layers.Dense(32, activation=tensorflow.nn.relu))\n",
        "model.add(tensorflow.keras.layers.Dense(3, activation=tensorflow.nn.softmax))\n",
        "\n",
        "model.compile(loss='categorical_crossentropy', optimizer='adam', metrics=['accuracy'])\n",
        "model.summary()"
      ],
      "execution_count": 60,
      "outputs": [
        {
          "output_type": "stream",
          "name": "stdout",
          "text": [
            "Model: \"sequential\"\n",
            "_________________________________________________________________\n",
            " Layer (type)                Output Shape              Param #   \n",
            "=================================================================\n",
            " embedding (Embedding)       (None, 50, 16)            11200     \n",
            "                                                                 \n",
            " conv1d (Conv1D)             (None, 46, 128)           10368     \n",
            "                                                                 \n",
            " global_average_pooling1d (G  (None, 128)              0         \n",
            " lobalAveragePooling1D)                                          \n",
            "                                                                 \n",
            " dense (Dense)               (None, 64)                8256      \n",
            "                                                                 \n",
            " dense_1 (Dense)             (None, 32)                2080      \n",
            "                                                                 \n",
            " dense_2 (Dense)             (None, 3)                 99        \n",
            "                                                                 \n",
            "=================================================================\n",
            "Total params: 32,003\n",
            "Trainable params: 32,003\n",
            "Non-trainable params: 0\n",
            "_________________________________________________________________\n"
          ]
        }
      ]
    },
    {
      "cell_type": "code",
      "metadata": {
        "id": "orqbDr-EJB1s"
      },
      "source": [
        "tensorflow.keras.backend.clear_session()\n",
        "\n",
        "model = tensorflow.keras.models.Sequential()\n",
        "model.add(tensorflow.keras.layers.Embedding(MAX_VOCAB_COUNT, 16, input_length=max_length))\n",
        "model.add(tensorflow.keras.layers.Conv1D(64, 6, activation=tensorflow.nn.relu))\n",
        "model.add(tensorflow.keras.layers.GlobalAveragePooling1D())\n",
        "model.add(tensorflow.keras.layers.Dense(32, activation=tensorflow.nn.relu))\n",
        "model.add(tensorflow.keras.layers.Dense(16, activation=tensorflow.nn.relu))\n",
        "model.add(tensorflow.keras.layers.Dense(3, activation=tensorflow.nn.softmax))\n",
        "\n",
        "sgd = tensorflow.keras.optimizers.SGD(learning_rate=0.01)\n",
        "model.compile(loss='categorical_crossentropy', optimizer=sgd, metrics=['accuracy'])"
      ],
      "execution_count": 58,
      "outputs": []
    },
    {
      "cell_type": "code",
      "metadata": {
        "colab": {
          "base_uri": "https://localhost:8080/"
        },
        "id": "7qcv9EcSCG6s",
        "outputId": "af116c32-4cb5-485e-96b8-a65b754dd880"
      },
      "source": [
        "history = model.fit(training_texts, hot_encoded, validation_data=(validation_texts, validation_hot_encoded), epochs=5)"
      ],
      "execution_count": 29,
      "outputs": [
        {
          "output_type": "stream",
          "name": "stdout",
          "text": [
            "Epoch 1/5\n",
            "2188/2188 [==============================] - 17s 8ms/step - loss: 0.7608 - accuracy: 0.6684 - val_loss: 0.7910 - val_accuracy: 0.6568\n",
            "Epoch 2/5\n",
            "2188/2188 [==============================] - 17s 8ms/step - loss: 0.7530 - accuracy: 0.6724 - val_loss: 0.7786 - val_accuracy: 0.6612\n",
            "Epoch 3/5\n",
            "2188/2188 [==============================] - 22s 10ms/step - loss: 0.7444 - accuracy: 0.6772 - val_loss: 0.7834 - val_accuracy: 0.6617\n",
            "Epoch 4/5\n",
            "2188/2188 [==============================] - 16s 8ms/step - loss: 0.7361 - accuracy: 0.6810 - val_loss: 0.7809 - val_accuracy: 0.6580\n",
            "Epoch 5/5\n",
            "2188/2188 [==============================] - 17s 8ms/step - loss: 0.7268 - accuracy: 0.6862 - val_loss: 0.7806 - val_accuracy: 0.6602\n"
          ]
        }
      ]
    },
    {
      "cell_type": "markdown",
      "metadata": {
        "id": "brShLKT84Nae"
      },
      "source": [
        "**Model Training - Binary**"
      ]
    },
    {
      "cell_type": "code",
      "metadata": {
        "id": "T3yN8Nn2YhE_",
        "colab": {
          "base_uri": "https://localhost:8080/"
        },
        "outputId": "abbb3448-d21d-4e96-a67f-fc6028adcac1"
      },
      "source": [
        "tensorflow.keras.backend.clear_session()\n",
        "\n",
        "model = tensorflow.keras.Sequential([\n",
        "    tensorflow.keras.layers.Embedding(MAX_VOCAB_COUNT, 16, input_length=max_length),\n",
        "    tensorflow.keras.layers.GlobalAveragePooling1D(),\n",
        "    tensorflow.keras.layers.Dense(32, activation='relu'),\n",
        "    tensorflow.keras.layers.Dense(16, activation='relu'),\n",
        "    tensorflow.keras.layers.Dense(1, activation='sigmoid')\n",
        "])\n",
        "\n",
        "model.compile(loss='binary_crossentropy', optimizer='adam', metrics=['accuracy'])\n",
        "model.summary()"
      ],
      "execution_count": 61,
      "outputs": [
        {
          "output_type": "stream",
          "name": "stdout",
          "text": [
            "Model: \"sequential\"\n",
            "_________________________________________________________________\n",
            " Layer (type)                Output Shape              Param #   \n",
            "=================================================================\n",
            " embedding (Embedding)       (None, 50, 16)            11200     \n",
            "                                                                 \n",
            " global_average_pooling1d (G  (None, 16)               0         \n",
            " lobalAveragePooling1D)                                          \n",
            "                                                                 \n",
            " dense (Dense)               (None, 32)                544       \n",
            "                                                                 \n",
            " dense_1 (Dense)             (None, 16)                528       \n",
            "                                                                 \n",
            " dense_2 (Dense)             (None, 1)                 17        \n",
            "                                                                 \n",
            "=================================================================\n",
            "Total params: 12,289\n",
            "Trainable params: 12,289\n",
            "Non-trainable params: 0\n",
            "_________________________________________________________________\n"
          ]
        }
      ]
    },
    {
      "cell_type": "code",
      "metadata": {
        "id": "IHZxOmqJZjAU",
        "colab": {
          "base_uri": "https://localhost:8080/"
        },
        "outputId": "9890e3b9-a33c-4347-d95b-fa00379a9ac9"
      },
      "source": [
        "history = model.fit(training_texts, training_labels, validation_data=(validation_texts, validation_labels), epochs=5)"
      ],
      "execution_count": 46,
      "outputs": [
        {
          "output_type": "stream",
          "name": "stdout",
          "text": [
            "Epoch 1/5\n",
            "2188/2188 [==============================] - 6s 3ms/step - loss: 0.4514 - accuracy: 0.7808 - val_loss: 0.4644 - val_accuracy: 0.7778\n",
            "Epoch 2/5\n",
            "2188/2188 [==============================] - 6s 3ms/step - loss: 0.4498 - accuracy: 0.7814 - val_loss: 0.4621 - val_accuracy: 0.7794\n",
            "Epoch 3/5\n",
            "2188/2188 [==============================] - 6s 3ms/step - loss: 0.4496 - accuracy: 0.7814 - val_loss: 0.4636 - val_accuracy: 0.7781\n",
            "Epoch 4/5\n",
            "2188/2188 [==============================] - 6s 3ms/step - loss: 0.4484 - accuracy: 0.7826 - val_loss: 0.4655 - val_accuracy: 0.7772\n",
            "Epoch 5/5\n",
            "2188/2188 [==============================] - 6s 3ms/step - loss: 0.4468 - accuracy: 0.7840 - val_loss: 0.4663 - val_accuracy: 0.7780\n"
          ]
        }
      ]
    }
  ]
}