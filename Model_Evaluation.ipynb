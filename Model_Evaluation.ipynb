{
 "cells": [
  {
   "cell_type": "markdown",
   "metadata": {},
   "source": [
    "# Model Evaluation\n",
    "\n",
    "With the model trained with 100 epochs, draw the confusion matrix and calculate f1-scores."
   ]
  },
  {
   "cell_type": "code",
   "execution_count": null,
   "metadata": {
    "colab": {
     "base_uri": "https://localhost:8080/"
    },
    "id": "o_e1Ev70fhVp",
    "outputId": "9a3a5a91-1bb6-4ffe-bffa-4ee3518b90d7"
   },
   "outputs": [
    {
     "name": "stdout",
     "output_type": "stream",
     "text": [
      "Current directory is /content/drive/MyDrive/colab-data/ai-final\n"
     ]
    }
   ],
   "source": [
    "import os\n",
    "os.chdir('/content/drive/MyDrive/colab-data/ai-final/')\n",
    "print(f\"Current directory is {os.getcwd()}\")"
   ]
  },
  {
   "cell_type": "code",
   "execution_count": null,
   "metadata": {
    "colab": {
     "base_uri": "https://localhost:8080/"
    },
    "id": "MD7qkVkdfpKR",
    "outputId": "8175aef2-f74f-48ab-caff-bacd632db8fc"
   },
   "outputs": [
    {
     "name": "stdout",
     "output_type": "stream",
     "text": [
      "(2450000, 2)\n"
     ]
    }
   ],
   "source": [
    "import pandas as pd\n",
    "import re\n",
    "\n",
    "# Get Train Dataset\n",
    "file_list = [f\"amazon_review_full_csv/train/{name}\"\n",
    "                for name in os.listdir('amazon_review_full_csv/train')\n",
    "                if re.match('^train_\\d{3}\\.csv$', name)]\n",
    "\n",
    "# Mix up Test Dataset\n",
    "file_list.extend([f\"amazon_review_full_csv/test/{name}\"\n",
    "                    for name in os.listdir('amazon_review_full_csv/test')\n",
    "                    if re.match('^test_\\d{3}\\.csv$', name)])\n",
    "\n",
    "# TODO test\n",
    "#file_list = [file_list[0]]\n",
    "\n",
    "df_data = pd.concat([pd.read_csv(path) for path in file_list], ignore_index=True)\n",
    "\n",
    "print(df_data.shape)"
   ]
  },
  {
   "cell_type": "code",
   "execution_count": null,
   "metadata": {
    "colab": {
     "base_uri": "https://localhost:8080/"
    },
    "id": "-TftYVbXfQup",
    "outputId": "4e981851-3370-4d1c-ccfb-db7c79d1e2ae"
   },
   "outputs": [
    {
     "data": {
      "text/plain": [
       "2    981993\n",
       "0    975929\n",
       "1    492078\n",
       "Name: label, dtype: int64"
      ]
     },
     "execution_count": 70,
     "metadata": {},
     "output_type": "execute_result"
    }
   ],
   "source": [
    "def label_score(score):\n",
    "    if score == 3:\n",
    "        return 1\n",
    "    else:\n",
    "        return 0 if score < 3 else 2\n",
    "\n",
    "# Multiclass Classification\n",
    "df_data['label'] = df_data['score'].apply(label_score)\n",
    "df_data['label'].value_counts()"
   ]
  },
  {
   "cell_type": "code",
   "execution_count": null,
   "metadata": {
    "id": "bYebPKyYATZC"
   },
   "outputs": [],
   "source": [
    "df_sample = df_data.sample(2000000)"
   ]
  },
  {
   "cell_type": "code",
   "execution_count": null,
   "metadata": {
    "colab": {
     "base_uri": "https://localhost:8080/"
    },
    "id": "Y5uj7Cmaf-XL",
    "outputId": "b794393a-6c1b-47be-ba3c-cab42fd5389d"
   },
   "outputs": [
    {
     "name": "stdout",
     "output_type": "stream",
     "text": [
      "['<unk>', 'good', 'like', 'great', 'read', 'time', 'buy', 'work', 'think', 'love']\n"
     ]
    }
   ],
   "source": [
    "from tensorflow.keras.preprocessing.text import Tokenizer\n",
    "\n",
    "MAX_VOCAB_COUNT = 800\n",
    "\n",
    "tf_tokenizer = Tokenizer(num_words=MAX_VOCAB_COUNT, oov_token=\"<unk>\")\n",
    "tf_tokenizer.fit_on_texts(df_sample['text'].astype(str))\n",
    "\n",
    "print(list(tf_tokenizer.word_index)[:10])"
   ]
  },
  {
   "cell_type": "code",
   "execution_count": null,
   "metadata": {
    "colab": {
     "base_uri": "https://localhost:8080/"
    },
    "id": "PWT0CbGAgHUU",
    "outputId": "e894ed21-874e-464b-a1b0-65b51dc7231a"
   },
   "outputs": [
    {
     "name": "stdout",
     "output_type": "stream",
     "text": [
      "tf.Tensor(\n",
      "[[  0   0   0 ... 606  76   5]\n",
      " [  0   0   0 ...  16   1   1]\n",
      " [  0   0   0 ...  91 222 553]\n",
      " ...\n",
      " [  0   0   0 ... 626   3   1]\n",
      " [  0   0   0 ...   1  30  42]\n",
      " [  0   0   0 ...   1   1   1]], shape=(2000000, 80), dtype=int32)\n"
     ]
    }
   ],
   "source": [
    "import tensorflow as tf\n",
    "from tensorflow.keras.preprocessing.sequence import pad_sequences\n",
    "\n",
    "MAX_WORD_LENGTH = 80\n",
    "\n",
    "indexed_text = tf_tokenizer.texts_to_sequences(df_sample['text'].astype(str))\n",
    "rectangularized = pad_sequences(indexed_text, maxlen=MAX_WORD_LENGTH, truncating='post')\n",
    "\n",
    "tf_text = tf.convert_to_tensor(rectangularized)\n",
    "print(tf_text)"
   ]
  },
  {
   "cell_type": "code",
   "execution_count": null,
   "metadata": {
    "colab": {
     "base_uri": "https://localhost:8080/"
    },
    "id": "bEm7hKCag7x9",
    "outputId": "ff2777af-74e9-4a83-a45d-85d7ca967e00"
   },
   "outputs": [
    {
     "name": "stdout",
     "output_type": "stream",
     "text": [
      "train : 1200000 val : 400000 test : 400000\n"
     ]
    }
   ],
   "source": [
    "# Splitting into 6:2:2\n",
    "split1 = round(len(tf_text)*0.6)\n",
    "split2 = round(len(tf_text)*0.8)\n",
    "\n",
    "train_x = tf_text[:split1]\n",
    "train_y = df_sample['label'][:split1].to_list()\n",
    "\n",
    "val_x = tf_text[split1:split2]\n",
    "val_y = df_sample['label'][split1:split2].to_list()\n",
    "\n",
    "test_x = tf_text[split2:]\n",
    "test_y = df_sample['label'][split2:].to_list()\n",
    "\n",
    "# One Hot Encoding\n",
    "train_he = tf.keras.utils.to_categorical(train_y)\n",
    "val_he = tf.keras.utils.to_categorical(val_y)\n",
    "\n",
    "print('train :', len(train_y), 'val :', len(val_y), 'test :', len(test_y))"
   ]
  },
  {
   "cell_type": "code",
   "execution_count": null,
   "metadata": {
    "colab": {
     "base_uri": "https://localhost:8080/"
    },
    "id": "9l-A8iQph4_s",
    "outputId": "7bc5e0f8-192d-4d88-d5d8-c85fc6fdbbdb"
   },
   "outputs": [
    {
     "name": "stdout",
     "output_type": "stream",
     "text": [
      "Model: \"sequential\"\n",
      "_________________________________________________________________\n",
      " Layer (type)                Output Shape              Param #   \n",
      "=================================================================\n",
      " embedding (Embedding)       (None, 80, 16)            12800     \n",
      "                                                                 \n",
      " dropout (Dropout)           (None, 80, 16)            0         \n",
      "                                                                 \n",
      " global_average_pooling1d (G  (None, 16)               0         \n",
      " lobalAveragePooling1D)                                          \n",
      "                                                                 \n",
      " dropout_1 (Dropout)         (None, 16)                0         \n",
      "                                                                 \n",
      " dense (Dense)               (None, 64)                1088      \n",
      "                                                                 \n",
      " dense_1 (Dense)             (None, 32)                2080      \n",
      "                                                                 \n",
      " dense_2 (Dense)             (None, 3)                 99        \n",
      "                                                                 \n",
      "=================================================================\n",
      "Total params: 16,067\n",
      "Trainable params: 16,067\n",
      "Non-trainable params: 0\n",
      "_________________________________________________________________\n"
     ]
    }
   ],
   "source": [
    "tf.keras.backend.clear_session()\n",
    "\n",
    "model = tf.keras.models.Sequential()\n",
    "model.add(tf.keras.layers.Embedding(MAX_VOCAB_COUNT, 16, input_length=MAX_WORD_LENGTH))\n",
    "model.add(tf.keras.layers.Dropout(0.2))\n",
    "model.add(tf.keras.layers.GlobalAveragePooling1D())\n",
    "model.add(tf.keras.layers.Dropout(0.2))\n",
    "model.add(tf.keras.layers.Dense(64, activation=tf.nn.relu))\n",
    "model.add(tf.keras.layers.Dense(32, activation=tf.nn.relu))\n",
    "model.add(tf.keras.layers.Dense(3, activation=tf.nn.softmax))\n",
    "\n",
    "model.compile(loss='categorical_crossentropy', optimizer='adam', metrics=['accuracy'])\n",
    "model.summary()"
   ]
  },
  {
   "cell_type": "code",
   "execution_count": null,
   "metadata": {
    "colab": {
     "base_uri": "https://localhost:8080/"
    },
    "id": "AZiN4227lQv9",
    "outputId": "78ef8536-5681-4e51-d35d-32c16738af7b"
   },
   "outputs": [
    {
     "name": "stdout",
     "output_type": "stream",
     "text": [
      "Epoch 1/100\n",
      "37500/37500 [==============================] - 120s 3ms/step - loss: 0.8056 - accuracy: 0.6446 - val_loss: 0.7892 - val_accuracy: 0.6509\n",
      "Epoch 2/100\n",
      "37500/37500 [==============================] - 117s 3ms/step - loss: 0.7937 - accuracy: 0.6515 - val_loss: 0.7812 - val_accuracy: 0.6578\n",
      "Epoch 3/100\n",
      "37500/37500 [==============================] - 115s 3ms/step - loss: 0.7910 - accuracy: 0.6525 - val_loss: 0.7799 - val_accuracy: 0.6576\n",
      "Epoch 4/100\n",
      "37500/37500 [==============================] - 125s 3ms/step - loss: 0.7888 - accuracy: 0.6543 - val_loss: 0.7824 - val_accuracy: 0.6559\n",
      "Epoch 5/100\n",
      "37500/37500 [==============================] - 121s 3ms/step - loss: 0.7865 - accuracy: 0.6553 - val_loss: 0.7739 - val_accuracy: 0.6616\n",
      "Epoch 6/100\n",
      "37500/37500 [==============================] - 118s 3ms/step - loss: 0.7853 - accuracy: 0.6559 - val_loss: 0.7730 - val_accuracy: 0.6620\n",
      "Epoch 7/100\n",
      "37500/37500 [==============================] - 114s 3ms/step - loss: 0.7839 - accuracy: 0.6566 - val_loss: 0.7723 - val_accuracy: 0.6621\n",
      "Epoch 8/100\n",
      "37500/37500 [==============================] - 116s 3ms/step - loss: 0.7831 - accuracy: 0.6566 - val_loss: 0.7726 - val_accuracy: 0.6623\n",
      "Epoch 9/100\n",
      "37500/37500 [==============================] - 121s 3ms/step - loss: 0.7827 - accuracy: 0.6571 - val_loss: 0.7715 - val_accuracy: 0.6629\n",
      "Epoch 10/100\n",
      "37500/37500 [==============================] - 122s 3ms/step - loss: 0.7821 - accuracy: 0.6575 - val_loss: 0.7713 - val_accuracy: 0.6629\n",
      "Epoch 11/100\n",
      "37500/37500 [==============================] - 113s 3ms/step - loss: 0.7815 - accuracy: 0.6575 - val_loss: 0.7706 - val_accuracy: 0.6627\n",
      "Epoch 12/100\n",
      "37500/37500 [==============================] - 122s 3ms/step - loss: 0.7810 - accuracy: 0.6583 - val_loss: 0.7701 - val_accuracy: 0.6629\n",
      "Epoch 13/100\n",
      "37500/37500 [==============================] - 120s 3ms/step - loss: 0.7807 - accuracy: 0.6581 - val_loss: 0.7690 - val_accuracy: 0.6633\n",
      "Epoch 14/100\n",
      "37500/37500 [==============================] - 116s 3ms/step - loss: 0.7803 - accuracy: 0.6587 - val_loss: 0.7717 - val_accuracy: 0.6648\n",
      "Epoch 15/100\n",
      "37500/37500 [==============================] - 118s 3ms/step - loss: 0.7803 - accuracy: 0.6584 - val_loss: 0.7696 - val_accuracy: 0.6638\n",
      "Epoch 16/100\n",
      "37500/37500 [==============================] - 122s 3ms/step - loss: 0.7800 - accuracy: 0.6586 - val_loss: 0.7704 - val_accuracy: 0.6634\n",
      "Epoch 17/100\n",
      "37500/37500 [==============================] - 120s 3ms/step - loss: 0.7798 - accuracy: 0.6586 - val_loss: 0.7678 - val_accuracy: 0.6643\n",
      "Epoch 18/100\n",
      "37500/37500 [==============================] - 121s 3ms/step - loss: 0.7797 - accuracy: 0.6588 - val_loss: 0.7694 - val_accuracy: 0.6642\n",
      "Epoch 19/100\n",
      "37500/37500 [==============================] - 125s 3ms/step - loss: 0.7797 - accuracy: 0.6587 - val_loss: 0.7707 - val_accuracy: 0.6642\n",
      "Epoch 20/100\n",
      "37500/37500 [==============================] - 115s 3ms/step - loss: 0.7797 - accuracy: 0.6588 - val_loss: 0.7690 - val_accuracy: 0.6647\n",
      "Epoch 21/100\n",
      "37500/37500 [==============================] - 127s 3ms/step - loss: 0.7793 - accuracy: 0.6589 - val_loss: 0.7684 - val_accuracy: 0.6644\n",
      "Epoch 22/100\n",
      "37500/37500 [==============================] - 126s 3ms/step - loss: 0.7790 - accuracy: 0.6588 - val_loss: 0.7702 - val_accuracy: 0.6646\n",
      "Epoch 23/100\n",
      "37500/37500 [==============================] - 127s 3ms/step - loss: 0.7790 - accuracy: 0.6591 - val_loss: 0.7705 - val_accuracy: 0.6629\n",
      "Epoch 24/100\n",
      "37500/37500 [==============================] - 120s 3ms/step - loss: 0.7790 - accuracy: 0.6590 - val_loss: 0.7713 - val_accuracy: 0.6635\n",
      "Epoch 25/100\n",
      "37500/37500 [==============================] - 116s 3ms/step - loss: 0.7789 - accuracy: 0.6591 - val_loss: 0.7691 - val_accuracy: 0.6651\n",
      "Epoch 26/100\n",
      "37500/37500 [==============================] - 128s 3ms/step - loss: 0.7787 - accuracy: 0.6594 - val_loss: 0.7700 - val_accuracy: 0.6651\n",
      "Epoch 27/100\n",
      "37500/37500 [==============================] - 121s 3ms/step - loss: 0.7785 - accuracy: 0.6594 - val_loss: 0.7681 - val_accuracy: 0.6654\n",
      "Epoch 28/100\n",
      "37500/37500 [==============================] - 120s 3ms/step - loss: 0.7785 - accuracy: 0.6592 - val_loss: 0.7696 - val_accuracy: 0.6648\n",
      "Epoch 29/100\n",
      "37500/37500 [==============================] - 134s 4ms/step - loss: 0.7784 - accuracy: 0.6594 - val_loss: 0.7706 - val_accuracy: 0.6643\n",
      "Epoch 30/100\n",
      "37500/37500 [==============================] - 130s 3ms/step - loss: 0.7785 - accuracy: 0.6594 - val_loss: 0.7666 - val_accuracy: 0.6659\n",
      "Epoch 31/100\n",
      "37500/37500 [==============================] - 132s 4ms/step - loss: 0.7784 - accuracy: 0.6593 - val_loss: 0.7667 - val_accuracy: 0.6655\n",
      "Epoch 32/100\n",
      "37500/37500 [==============================] - 132s 4ms/step - loss: 0.7781 - accuracy: 0.6597 - val_loss: 0.7704 - val_accuracy: 0.6658\n",
      "Epoch 33/100\n",
      "37500/37500 [==============================] - 127s 3ms/step - loss: 0.7779 - accuracy: 0.6592 - val_loss: 0.7686 - val_accuracy: 0.6651\n",
      "Epoch 34/100\n",
      "37500/37500 [==============================] - 125s 3ms/step - loss: 0.7781 - accuracy: 0.6598 - val_loss: 0.7673 - val_accuracy: 0.6661\n",
      "Epoch 35/100\n",
      "37500/37500 [==============================] - 119s 3ms/step - loss: 0.7780 - accuracy: 0.6595 - val_loss: 0.7683 - val_accuracy: 0.6644\n",
      "Epoch 36/100\n",
      "37500/37500 [==============================] - 119s 3ms/step - loss: 0.7778 - accuracy: 0.6597 - val_loss: 0.7687 - val_accuracy: 0.6654\n",
      "Epoch 37/100\n",
      "37500/37500 [==============================] - 117s 3ms/step - loss: 0.7778 - accuracy: 0.6593 - val_loss: 0.7668 - val_accuracy: 0.6656\n",
      "Epoch 38/100\n",
      "37500/37500 [==============================] - 126s 3ms/step - loss: 0.7779 - accuracy: 0.6597 - val_loss: 0.7678 - val_accuracy: 0.6657\n",
      "Epoch 39/100\n",
      "37500/37500 [==============================] - 117s 3ms/step - loss: 0.7777 - accuracy: 0.6597 - val_loss: 0.7675 - val_accuracy: 0.6656\n",
      "Epoch 40/100\n",
      "37500/37500 [==============================] - 125s 3ms/step - loss: 0.7775 - accuracy: 0.6602 - val_loss: 0.7695 - val_accuracy: 0.6654\n",
      "Epoch 41/100\n",
      "37500/37500 [==============================] - 117s 3ms/step - loss: 0.7774 - accuracy: 0.6599 - val_loss: 0.7682 - val_accuracy: 0.6652\n",
      "Epoch 42/100\n",
      "37500/37500 [==============================] - 117s 3ms/step - loss: 0.7774 - accuracy: 0.6601 - val_loss: 0.7676 - val_accuracy: 0.6663\n",
      "Epoch 43/100\n",
      "37500/37500 [==============================] - 119s 3ms/step - loss: 0.7777 - accuracy: 0.6599 - val_loss: 0.7670 - val_accuracy: 0.6657\n",
      "Epoch 44/100\n",
      "37500/37500 [==============================] - 117s 3ms/step - loss: 0.7773 - accuracy: 0.6599 - val_loss: 0.7674 - val_accuracy: 0.6649\n",
      "Epoch 45/100\n",
      "37500/37500 [==============================] - 123s 3ms/step - loss: 0.7776 - accuracy: 0.6600 - val_loss: 0.7666 - val_accuracy: 0.6661\n",
      "Epoch 46/100\n",
      "37500/37500 [==============================] - 115s 3ms/step - loss: 0.7773 - accuracy: 0.6604 - val_loss: 0.7677 - val_accuracy: 0.6654\n",
      "Epoch 47/100\n",
      "37500/37500 [==============================] - 127s 3ms/step - loss: 0.7776 - accuracy: 0.6599 - val_loss: 0.7658 - val_accuracy: 0.6658\n",
      "Epoch 48/100\n",
      "37500/37500 [==============================] - 124s 3ms/step - loss: 0.7774 - accuracy: 0.6598 - val_loss: 0.7672 - val_accuracy: 0.6660\n",
      "Epoch 49/100\n",
      "37500/37500 [==============================] - 124s 3ms/step - loss: 0.7772 - accuracy: 0.6601 - val_loss: 0.7660 - val_accuracy: 0.6659\n",
      "Epoch 50/100\n",
      "37500/37500 [==============================] - 118s 3ms/step - loss: 0.7773 - accuracy: 0.6599 - val_loss: 0.7669 - val_accuracy: 0.6664\n",
      "Epoch 51/100\n",
      "37500/37500 [==============================] - 124s 3ms/step - loss: 0.7770 - accuracy: 0.6602 - val_loss: 0.7688 - val_accuracy: 0.6655\n",
      "Epoch 52/100\n",
      "37500/37500 [==============================] - 117s 3ms/step - loss: 0.7773 - accuracy: 0.6598 - val_loss: 0.7676 - val_accuracy: 0.6663\n",
      "Epoch 53/100\n",
      "37500/37500 [==============================] - 125s 3ms/step - loss: 0.7771 - accuracy: 0.6603 - val_loss: 0.7674 - val_accuracy: 0.6663\n",
      "Epoch 54/100\n",
      "37500/37500 [==============================] - 116s 3ms/step - loss: 0.7774 - accuracy: 0.6599 - val_loss: 0.7691 - val_accuracy: 0.6652\n",
      "Epoch 55/100\n",
      "37500/37500 [==============================] - 116s 3ms/step - loss: 0.7770 - accuracy: 0.6602 - val_loss: 0.7679 - val_accuracy: 0.6655\n",
      "Epoch 56/100\n",
      "37500/37500 [==============================] - 124s 3ms/step - loss: 0.7772 - accuracy: 0.6601 - val_loss: 0.7667 - val_accuracy: 0.6662\n",
      "Epoch 57/100\n",
      "37500/37500 [==============================] - 115s 3ms/step - loss: 0.7771 - accuracy: 0.6601 - val_loss: 0.7676 - val_accuracy: 0.6660\n",
      "Epoch 58/100\n",
      "37500/37500 [==============================] - 125s 3ms/step - loss: 0.7774 - accuracy: 0.6599 - val_loss: 0.7698 - val_accuracy: 0.6634\n",
      "Epoch 59/100\n",
      "37500/37500 [==============================] - 117s 3ms/step - loss: 0.7771 - accuracy: 0.6605 - val_loss: 0.7693 - val_accuracy: 0.6644\n",
      "Epoch 60/100\n",
      "37500/37500 [==============================] - 116s 3ms/step - loss: 0.7770 - accuracy: 0.6599 - val_loss: 0.7687 - val_accuracy: 0.6649\n",
      "Epoch 61/100\n",
      "37500/37500 [==============================] - 117s 3ms/step - loss: 0.7769 - accuracy: 0.6601 - val_loss: 0.7698 - val_accuracy: 0.6642\n",
      "Epoch 62/100\n",
      "37500/37500 [==============================] - 115s 3ms/step - loss: 0.7774 - accuracy: 0.6598 - val_loss: 0.7675 - val_accuracy: 0.6651\n",
      "Epoch 63/100\n",
      "37500/37500 [==============================] - 117s 3ms/step - loss: 0.7768 - accuracy: 0.6598 - val_loss: 0.7682 - val_accuracy: 0.6658\n",
      "Epoch 64/100\n",
      "37500/37500 [==============================] - 117s 3ms/step - loss: 0.7772 - accuracy: 0.6599 - val_loss: 0.7678 - val_accuracy: 0.6652\n",
      "Epoch 65/100\n",
      "37500/37500 [==============================] - 117s 3ms/step - loss: 0.7770 - accuracy: 0.6602 - val_loss: 0.7696 - val_accuracy: 0.6660\n",
      "Epoch 66/100\n",
      "37500/37500 [==============================] - 126s 3ms/step - loss: 0.7770 - accuracy: 0.6604 - val_loss: 0.7698 - val_accuracy: 0.6644\n",
      "Epoch 67/100\n",
      "37500/37500 [==============================] - 127s 3ms/step - loss: 0.7769 - accuracy: 0.6603 - val_loss: 0.7696 - val_accuracy: 0.6655\n",
      "Epoch 68/100\n",
      "37500/37500 [==============================] - 130s 3ms/step - loss: 0.7770 - accuracy: 0.6599 - val_loss: 0.7687 - val_accuracy: 0.6664\n",
      "Epoch 69/100\n",
      "37500/37500 [==============================] - 129s 3ms/step - loss: 0.7772 - accuracy: 0.6600 - val_loss: 0.7692 - val_accuracy: 0.6657\n",
      "Epoch 70/100\n",
      "37500/37500 [==============================] - 120s 3ms/step - loss: 0.7772 - accuracy: 0.6599 - val_loss: 0.7679 - val_accuracy: 0.6649\n",
      "Epoch 71/100\n",
      "37500/37500 [==============================] - 123s 3ms/step - loss: 0.7768 - accuracy: 0.6600 - val_loss: 0.7664 - val_accuracy: 0.6662\n",
      "Epoch 72/100\n",
      "37500/37500 [==============================] - 128s 3ms/step - loss: 0.7768 - accuracy: 0.6601 - val_loss: 0.7686 - val_accuracy: 0.6654\n",
      "Epoch 73/100\n",
      "37500/37500 [==============================] - 130s 3ms/step - loss: 0.7769 - accuracy: 0.6605 - val_loss: 0.7678 - val_accuracy: 0.6657\n",
      "Epoch 74/100\n",
      "37500/37500 [==============================] - 130s 3ms/step - loss: 0.7767 - accuracy: 0.6606 - val_loss: 0.7682 - val_accuracy: 0.6649\n",
      "Epoch 75/100\n",
      "37500/37500 [==============================] - 125s 3ms/step - loss: 0.7769 - accuracy: 0.6600 - val_loss: 0.7667 - val_accuracy: 0.6659\n",
      "Epoch 76/100\n",
      "37500/37500 [==============================] - 125s 3ms/step - loss: 0.7769 - accuracy: 0.6603 - val_loss: 0.7698 - val_accuracy: 0.6639\n",
      "Epoch 77/100\n",
      "37500/37500 [==============================] - 122s 3ms/step - loss: 0.7767 - accuracy: 0.6605 - val_loss: 0.7684 - val_accuracy: 0.6656\n",
      "Epoch 78/100\n",
      "37500/37500 [==============================] - 117s 3ms/step - loss: 0.7768 - accuracy: 0.6604 - val_loss: 0.7681 - val_accuracy: 0.6655\n",
      "Epoch 79/100\n",
      "37500/37500 [==============================] - 122s 3ms/step - loss: 0.7768 - accuracy: 0.6602 - val_loss: 0.7677 - val_accuracy: 0.6660\n",
      "Epoch 80/100\n",
      "37500/37500 [==============================] - 125s 3ms/step - loss: 0.7769 - accuracy: 0.6599 - val_loss: 0.7662 - val_accuracy: 0.6663\n",
      "Epoch 81/100\n",
      "37500/37500 [==============================] - 123s 3ms/step - loss: 0.7766 - accuracy: 0.6603 - val_loss: 0.7669 - val_accuracy: 0.6661\n",
      "Epoch 82/100\n",
      "37500/37500 [==============================] - 131s 3ms/step - loss: 0.7767 - accuracy: 0.6602 - val_loss: 0.7700 - val_accuracy: 0.6643\n",
      "Epoch 83/100\n",
      "37500/37500 [==============================] - 129s 3ms/step - loss: 0.7767 - accuracy: 0.6603 - val_loss: 0.7699 - val_accuracy: 0.6655\n",
      "Epoch 84/100\n",
      "37500/37500 [==============================] - 118s 3ms/step - loss: 0.7769 - accuracy: 0.6603 - val_loss: 0.7689 - val_accuracy: 0.6656\n",
      "Epoch 85/100\n",
      "37500/37500 [==============================] - 128s 3ms/step - loss: 0.7767 - accuracy: 0.6606 - val_loss: 0.7674 - val_accuracy: 0.6660\n",
      "Epoch 86/100\n",
      "37500/37500 [==============================] - 121s 3ms/step - loss: 0.7769 - accuracy: 0.6604 - val_loss: 0.7668 - val_accuracy: 0.6655\n",
      "Epoch 87/100\n",
      "37500/37500 [==============================] - 122s 3ms/step - loss: 0.7766 - accuracy: 0.6605 - val_loss: 0.7682 - val_accuracy: 0.6657\n",
      "Epoch 88/100\n",
      "37500/37500 [==============================] - 121s 3ms/step - loss: 0.7769 - accuracy: 0.6603 - val_loss: 0.7685 - val_accuracy: 0.6651\n",
      "Epoch 89/100\n",
      "37500/37500 [==============================] - 128s 3ms/step - loss: 0.7767 - accuracy: 0.6603 - val_loss: 0.7670 - val_accuracy: 0.6655\n",
      "Epoch 90/100\n",
      "37500/37500 [==============================] - 129s 3ms/step - loss: 0.7766 - accuracy: 0.6606 - val_loss: 0.7663 - val_accuracy: 0.6660\n",
      "Epoch 91/100\n",
      "37500/37500 [==============================] - 129s 3ms/step - loss: 0.7766 - accuracy: 0.6606 - val_loss: 0.7685 - val_accuracy: 0.6654\n",
      "Epoch 92/100\n",
      "37500/37500 [==============================] - 127s 3ms/step - loss: 0.7767 - accuracy: 0.6602 - val_loss: 0.7703 - val_accuracy: 0.6632\n",
      "Epoch 93/100\n",
      "37500/37500 [==============================] - 129s 3ms/step - loss: 0.7767 - accuracy: 0.6600 - val_loss: 0.7667 - val_accuracy: 0.6655\n",
      "Epoch 94/100\n",
      "37500/37500 [==============================] - 130s 3ms/step - loss: 0.7769 - accuracy: 0.6605 - val_loss: 0.7690 - val_accuracy: 0.6664\n",
      "Epoch 95/100\n",
      "37500/37500 [==============================] - 130s 3ms/step - loss: 0.7766 - accuracy: 0.6603 - val_loss: 0.7678 - val_accuracy: 0.6659\n",
      "Epoch 96/100\n",
      "37500/37500 [==============================] - 121s 3ms/step - loss: 0.7768 - accuracy: 0.6604 - val_loss: 0.7685 - val_accuracy: 0.6646\n",
      "Epoch 97/100\n",
      "37500/37500 [==============================] - 129s 3ms/step - loss: 0.7765 - accuracy: 0.6602 - val_loss: 0.7670 - val_accuracy: 0.6662\n",
      "Epoch 98/100\n",
      "37500/37500 [==============================] - 120s 3ms/step - loss: 0.7766 - accuracy: 0.6608 - val_loss: 0.7676 - val_accuracy: 0.6656\n",
      "Epoch 99/100\n",
      "37500/37500 [==============================] - 129s 3ms/step - loss: 0.7763 - accuracy: 0.6606 - val_loss: 0.7680 - val_accuracy: 0.6661\n",
      "Epoch 100/100\n",
      "37500/37500 [==============================] - 121s 3ms/step - loss: 0.7766 - accuracy: 0.6602 - val_loss: 0.7684 - val_accuracy: 0.6660\n"
     ]
    }
   ],
   "source": [
    "EPOCH_COUNT=100\n",
    "hist = model.fit(train_x, train_he, validation_data=(val_x, val_he), epochs=EPOCH_COUNT)"
   ]
  },
  {
   "cell_type": "code",
   "execution_count": null,
   "metadata": {
    "id": "PvgohGYu9Efz"
   },
   "outputs": [],
   "source": [
    "def get_peak_with_index(func, arr):\n",
    "    val = func(arr)\n",
    "    index = arr.index(val)\n",
    "    return val, index"
   ]
  },
  {
   "cell_type": "code",
   "execution_count": null,
   "metadata": {
    "colab": {
     "base_uri": "https://localhost:8080/",
     "height": 461
    },
    "id": "LYv1xFLcmU5O",
    "outputId": "298cf9a6-a40a-44f9-cfb5-a57d06f6cd6b"
   },
   "outputs": [
    {
     "name": "stdout",
     "output_type": "stream",
     "text": [
      "min loss : 0.7657840847969055 at 46 epoch\n",
      "max acc : 0.666427493095398 at 93 epoch\n"
     ]
    },
    {
     "data": {
      "image/png": "[encoded data removed]",
      "text/plain": [
       "<Figure size 648x417.6 with 2 Axes>"
      ]
     },
     "metadata": {},
     "output_type": "display_data"
    }
   ],
   "source": [
    "import matplotlib.pyplot as plt\n",
    "import seaborn as sns\n",
    "\n",
    "%matplotlib inline\n",
    "sns.set()\n",
    "sns.set_style(\"darkgrid\", {\"grid.color\": \"0.5\"})\n",
    "\n",
    "fig, loss_ax = plt.subplots(figsize=(9, 5.8))\n",
    "acc_ax = loss_ax.twinx()\n",
    "\n",
    "fig.suptitle('Training Statistics')\n",
    "\n",
    "# Set color\n",
    "colors = sns.color_palette(\"Paired\")[0:2]\n",
    "colors.extend(sns.color_palette(\"Paired\")[4:6])\n",
    "\n",
    "# Loss\n",
    "sns.lineplot(data=hist.history['loss'], ax=loss_ax, color=colors[2])#, marker='o')\n",
    "loss_graph = sns.lineplot(data=hist.history['val_loss'], ax=loss_ax, color=colors[3])#, marker='X')\n",
    "\n",
    "loss_ax.set_ylabel('Loss', color=colors[3])\n",
    "loss_ax.legend(loc='center left', title='Loss', labels=['train', 'val'])\n",
    "\n",
    "# Accuracy\n",
    "sns.lineplot(data=hist.history['accuracy'], ax=acc_ax, color=colors[0])#, marker='o')\n",
    "acc_graph = sns.lineplot(data=hist.history['val_accuracy'], ax=acc_ax, color=colors[1])#, marker='X')\n",
    "\n",
    "acc_ax.set_ylabel('Accuracy', color=colors[1])\n",
    "acc_ax.legend(loc='center right', title='Accuracy', labels=['train', 'val'])\n",
    "\n",
    "# Mark the lowest Loss\n",
    "min_loss, min_loss_epoch = get_peak_with_index(min, hist.history['val_loss'])\n",
    "print(f'min loss : {min_loss} at {min_loss_epoch} epoch')\n",
    "loss_graph.axhline(min_loss, linestyle='--', linewidth=0.75, color=colors[3])\n",
    "loss_graph.axvline(min_loss_epoch, linestyle=':', linewidth=0.75, color=colors[3])\n",
    "\n",
    "# Mark the highest Accuracy\n",
    "max_acc, max_acc_epoch = get_peak_with_index(max, hist.history['val_accuracy'])\n",
    "print(f'max acc : {max_acc} at {max_acc_epoch} epoch')\n",
    "acc_graph.axhline(max_acc, linestyle='--', linewidth=0.75, color=colors[1])\n",
    "acc_graph.axvline(max_acc_epoch, linestyle=':', linewidth=0.75, color=colors[1])\n",
    "\n",
    "# Set X ticks\n",
    "loss_ax.set_xlabel('Epoch')\n",
    "#loss_ax.set_xticks(list(range(EPOCH_COUNT)))\n",
    "#loss_ax.set_xticklabels(list(range(1, EPOCH_COUNT+1)))\n",
    "\n",
    "# Remove grids\n",
    "loss_ax.grid(False, axis='both')\n",
    "acc_ax.grid(False, axis='both')\n",
    "\n",
    "plt.show()\n",
    "\n",
    "fig.savefig(f\"training_statistics.png\", transparent=True)\n",
    "\n",
    "# min loss : 0.7657840847969055 at 46 epoch\n",
    "# max acc : 0.666427493095398 at 93 epoch"
   ]
  },
  {
   "cell_type": "code",
   "execution_count": null,
   "metadata": {
    "colab": {
     "base_uri": "https://localhost:8080/"
    },
    "id": "NJ3f-ZbOv3gD",
    "outputId": "3d541234-d47d-4350-de63-09b7c496e074"
   },
   "outputs": [
    {
     "name": "stdout",
     "output_type": "stream",
     "text": [
      "12500/12500 [==============================] - 16s 1ms/step\n",
      "12500/12500 [==============================] - 16s 1ms/step\n"
     ]
    }
   ],
   "source": [
    "import numpy as np\n",
    "\n",
    "# Predict the Test\n",
    "test_p = model.predict(test_x, verbose=1)\n",
    "test_p = np.argmax(test_p, axis=1)\n",
    "\n",
    "# Predict the Validation\n",
    "val_p = model.predict(val_x, verbose=1)\n",
    "val_p = np.argmax(val_p, axis=1)"
   ]
  },
  {
   "cell_type": "code",
   "execution_count": null,
   "metadata": {
    "id": "kRXWzsyQwyZz"
   },
   "outputs": [],
   "source": [
    "import seaborn as sns\n",
    "\n",
    "def draw_confusion_matrix(groundtruth, prediction, title, palette):\n",
    "    # Confusion Matrix\n",
    "    matrix_cnt = tf.math.confusion_matrix(groundtruth, prediction).numpy()\n",
    "    #print(matrix_cnt)\n",
    "\n",
    "    matrix_ratio = matrix_cnt / matrix_cnt.sum()\n",
    "    matrix_ratio = matrix_ratio.round(3)\n",
    "    #print(matrix_ratio.round(3))\n",
    "\n",
    "    label_name = ['Negative', 'Neutral', 'Positive']\n",
    "\n",
    "    fig, axes = plt.subplots(1, 2, figsize=(13, 5))\n",
    "\n",
    "    sns.heatmap(matrix_cnt, annot=True, fmt=\",\", linewidths=.5,\n",
    "                ax=axes[0], cmap=palette,\n",
    "                xticklabels=label_name, yticklabels=label_name)\n",
    "\n",
    "    sns.heatmap(matrix_ratio, annot=True, linewidths=.5,\n",
    "                ax=axes[1], cmap=palette,\n",
    "                xticklabels=label_name, yticklabels=label_name)\n",
    "\n",
    "    fig.suptitle(title)\n",
    "    plt.show()\n",
    "\n",
    "    fig.savefig(f\"{title.replace(' ', '_')}.png\", transparent=True)"
   ]
  },
  {
   "cell_type": "code",
   "execution_count": null,
   "metadata": {
    "id": "3LVdB7qGMweE"
   },
   "outputs": [],
   "source": [
    "draw_confusion_matrix(val_y, val_p, \"Confusion Matrix of Validation dataset\",\n",
    "                      sns.light_palette(\"seagreen\", as_cmap=True))"
   ]
  },
  {
   "cell_type": "code",
   "execution_count": null,
   "metadata": {
    "colab": {
     "base_uri": "https://localhost:8080/",
     "height": 358
    },
    "id": "idHrj5OTXoxv",
    "outputId": "9a9ae393-9abb-471f-9886-13c6a0bcf8b1"
   },
   "outputs": [
    {
     "data": {
      "image/png": "[encoded data removed]",
      "text/plain": [
       "<Figure size 936x360 with 4 Axes>"
      ]
     },
     "metadata": {},
     "output_type": "display_data"
    }
   ],
   "source": [
    "draw_confusion_matrix(test_y, test_p, \"Confusion Matrix of Test dataset\",\n",
    "                      sns.dark_palette(\"#ddd\", as_cmap=True, reverse=True))"
   ]
  },
  {
   "cell_type": "code",
   "execution_count": null,
   "metadata": {
    "colab": {
     "base_uri": "https://localhost:8080/"
    },
    "id": "OJH6ssGUVn9d",
    "outputId": "84194486-e2ec-4f44-d665-ad9aad968b8b"
   },
   "outputs": [
    {
     "name": "stdout",
     "output_type": "stream",
     "text": [
      "              precision    recall  f1-score   support\n",
      "\n",
      "    Negative       0.68      0.78      0.73    159078\n",
      "     Neutral       0.51      0.16      0.24     80495\n",
      "    Positive       0.68      0.81      0.74    160427\n",
      "\n",
      "    accuracy                           0.67    400000\n",
      "   macro avg       0.62      0.58      0.57    400000\n",
      "weighted avg       0.64      0.67      0.63    400000\n",
      "\n"
     ]
    }
   ],
   "source": [
    "from sklearn.metrics import classification_report\n",
    "print(classification_report(val_y, val_p, target_names=['Negative', 'Neutral', 'Positive']))"
   ]
  }
 ],
 "metadata": {
  "colab": {
   "collapsed_sections": [],
   "name": "Model_Evaluation.ipynb",
   "provenance": []
  },
  "kernelspec": {
   "display_name": "Python 3 (ipykernel)",
   "language": "python",
   "name": "python3"
  },
  "language_info": {
   "codemirror_mode": {
    "name": "ipython",
    "version": 3
   },
   "file_extension": ".py",
   "mimetype": "text/x-python",
   "name": "python",
   "nbconvert_exporter": "python",
   "pygments_lexer": "ipython3",
   "version": "3.8.10"
  }
 },
 "nbformat": 4,
 "nbformat_minor": 1
}
