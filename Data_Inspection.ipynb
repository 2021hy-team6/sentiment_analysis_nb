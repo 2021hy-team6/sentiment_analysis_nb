{
 "cells": [
  {
   "cell_type": "markdown",
   "id": "3f907a6a",
   "metadata": {},
   "source": [
    "# Data Inspection\n",
    "\n",
    "download `train_parsed_words.csv` first : [download link](https://drive.google.com/file/d/1MVYCX5xXBp9HCwRUNuGB2zWQvroAE67_/view?usp=sharing)"
   ]
  },
  {
   "cell_type": "code",
   "execution_count": 1,
   "id": "3942baee",
   "metadata": {
    "scrolled": true
   },
   "outputs": [
    {
     "name": "stdout",
     "output_type": "stream",
     "text": [
      "Current directory is /home/rokong/Repository/sentiment_analysis_nb\n"
     ]
    }
   ],
   "source": [
    "import os\n",
    "import logging\n",
    "\n",
    "import numpy as np\n",
    "import pandas as pd\n",
    "\n",
    "import seaborn as sns\n",
    "import matplotlib.pyplot as plt\n",
    "import matplotlib.dates as mdates\n",
    "\n",
    "# Basic Config\n",
    "\n",
    "# Constants\n",
    "DATA_PATHNAME = './train_parsed_words.csv'\n",
    "\n",
    "# Logging\n",
    "logger = logging.getLogger()\n",
    "logger.setLevel(logging.INFO)\n",
    "stream_handler = logging.StreamHandler()\n",
    "stream_handler.setFormatter(logging.Formatter('%(asctime)s [%(levelname)s] %(message)s'))\n",
    "logger.addHandler(stream_handler)\n",
    "\n",
    "# Pandas\n",
    "pd.options.display.max_columns = None\n",
    "pd.set_option('precision', 2)\n",
    "pd.options.display.float_format = '{:.2f}'.format\n",
    "\n",
    "# Visualization\n",
    "%matplotlib inline\n",
    "sns.set()\n",
    "\n",
    "# Current directory\n",
    "print(f\"Current directory is {os.getcwd()}\")"
   ]
  },
  {
   "cell_type": "code",
   "execution_count": 2,
   "id": "1e23f08b",
   "metadata": {
    "scrolled": true
   },
   "outputs": [
    {
     "data": {
      "text/html": [
       "<div>\n",
       "<style scoped>\n",
       "    .dataframe tbody tr th:only-of-type {\n",
       "        vertical-align: middle;\n",
       "    }\n",
       "\n",
       "    .dataframe tbody tr th {\n",
       "        vertical-align: top;\n",
       "    }\n",
       "\n",
       "    .dataframe thead th {\n",
       "        text-align: right;\n",
       "    }\n",
       "</style>\n",
       "<table border=\"1\" class=\"dataframe\">\n",
       "  <thead>\n",
       "    <tr style=\"text-align: right;\">\n",
       "      <th></th>\n",
       "      <th>score</th>\n",
       "      <th>text</th>\n",
       "    </tr>\n",
       "  </thead>\n",
       "  <tbody>\n",
       "    <tr>\n",
       "      <th>0</th>\n",
       "      <td>3</td>\n",
       "      <td>like</td>\n",
       "    </tr>\n",
       "    <tr>\n",
       "      <th>1</th>\n",
       "      <td>3</td>\n",
       "      <td>funchuck</td>\n",
       "    </tr>\n",
       "    <tr>\n",
       "      <th>2</th>\n",
       "      <td>3</td>\n",
       "      <td>gave</td>\n",
       "    </tr>\n",
       "    <tr>\n",
       "      <th>3</th>\n",
       "      <td>3</td>\n",
       "      <td>dad</td>\n",
       "    </tr>\n",
       "    <tr>\n",
       "      <th>4</th>\n",
       "      <td>3</td>\n",
       "      <td>gag</td>\n",
       "    </tr>\n",
       "  </tbody>\n",
       "</table>\n",
       "</div>"
      ],
      "text/plain": [
       "   score      text\n",
       "0      3      like\n",
       "1      3  funchuck\n",
       "2      3      gave\n",
       "3      3       dad\n",
       "4      3       gag"
      ]
     },
     "execution_count": 2,
     "metadata": {},
     "output_type": "execute_result"
    }
   ],
   "source": [
    "df_data = pd.read_csv(DATA_PATHNAME)\n",
    "df_data.head()"
   ]
  },
  {
   "cell_type": "markdown",
   "id": "ecc95872",
   "metadata": {},
   "source": [
    "## Overall Distribution Of Pos/Neg ratio"
   ]
  },
  {
   "cell_type": "code",
   "execution_count": 3,
   "id": "c932c7ab",
   "metadata": {
    "scrolled": false
   },
   "outputs": [
    {
     "data": {
      "text/html": [
       "<div>\n",
       "<style scoped>\n",
       "    .dataframe tbody tr th:only-of-type {\n",
       "        vertical-align: middle;\n",
       "    }\n",
       "\n",
       "    .dataframe tbody tr th {\n",
       "        vertical-align: top;\n",
       "    }\n",
       "\n",
       "    .dataframe thead th {\n",
       "        text-align: right;\n",
       "    }\n",
       "</style>\n",
       "<table border=\"1\" class=\"dataframe\">\n",
       "  <thead>\n",
       "    <tr style=\"text-align: right;\">\n",
       "      <th></th>\n",
       "      <th>score</th>\n",
       "      <th>text</th>\n",
       "      <th>label</th>\n",
       "    </tr>\n",
       "  </thead>\n",
       "  <tbody>\n",
       "    <tr>\n",
       "      <th>0</th>\n",
       "      <td>3</td>\n",
       "      <td>like</td>\n",
       "      <td>1</td>\n",
       "    </tr>\n",
       "    <tr>\n",
       "      <th>1</th>\n",
       "      <td>3</td>\n",
       "      <td>funchuck</td>\n",
       "      <td>1</td>\n",
       "    </tr>\n",
       "    <tr>\n",
       "      <th>2</th>\n",
       "      <td>3</td>\n",
       "      <td>gave</td>\n",
       "      <td>1</td>\n",
       "    </tr>\n",
       "    <tr>\n",
       "      <th>3</th>\n",
       "      <td>3</td>\n",
       "      <td>dad</td>\n",
       "      <td>1</td>\n",
       "    </tr>\n",
       "    <tr>\n",
       "      <th>4</th>\n",
       "      <td>3</td>\n",
       "      <td>gag</td>\n",
       "      <td>1</td>\n",
       "    </tr>\n",
       "  </tbody>\n",
       "</table>\n",
       "</div>"
      ],
      "text/plain": [
       "   score      text  label\n",
       "0      3      like      1\n",
       "1      3  funchuck      1\n",
       "2      3      gave      1\n",
       "3      3       dad      1\n",
       "4      3       gag      1"
      ]
     },
     "execution_count": 3,
     "metadata": {},
     "output_type": "execute_result"
    }
   ],
   "source": [
    "df_dist = df_data.copy()\n",
    "\n",
    "def label_score(score):\n",
    "    if score == 3:\n",
    "        return 1   # Neutral (1)\n",
    "    else:\n",
    "        return 2 if score > 3 else 0 # Negative(0), Posivite(2)\n",
    "\n",
    "# Label whether it is positive or negative\n",
    "df_dist['label'] = df_dist['score'].apply(label_score)\n",
    "\n",
    "df_dist.head()"
   ]
  },
  {
   "cell_type": "code",
   "execution_count": 4,
   "id": "e8bb0ff6",
   "metadata": {},
   "outputs": [
    {
     "data": {
      "text/html": [
       "<div>\n",
       "<style scoped>\n",
       "    .dataframe tbody tr th:only-of-type {\n",
       "        vertical-align: middle;\n",
       "    }\n",
       "\n",
       "    .dataframe tbody tr th {\n",
       "        vertical-align: top;\n",
       "    }\n",
       "\n",
       "    .dataframe thead th {\n",
       "        text-align: right;\n",
       "    }\n",
       "</style>\n",
       "<table border=\"1\" class=\"dataframe\">\n",
       "  <thead>\n",
       "    <tr style=\"text-align: right;\">\n",
       "      <th></th>\n",
       "      <th>neg</th>\n",
       "      <th>neu</th>\n",
       "      <th>pos</th>\n",
       "    </tr>\n",
       "    <tr>\n",
       "      <th>text</th>\n",
       "      <th></th>\n",
       "      <th></th>\n",
       "      <th></th>\n",
       "    </tr>\n",
       "  </thead>\n",
       "  <tbody>\n",
       "    <tr>\n",
       "      <th>abilities</th>\n",
       "      <td>38</td>\n",
       "      <td>28</td>\n",
       "      <td>54</td>\n",
       "    </tr>\n",
       "    <tr>\n",
       "      <th>ability</th>\n",
       "      <td>185</td>\n",
       "      <td>122</td>\n",
       "      <td>301</td>\n",
       "    </tr>\n",
       "    <tr>\n",
       "      <th>able</th>\n",
       "      <td>1013</td>\n",
       "      <td>538</td>\n",
       "      <td>1080</td>\n",
       "    </tr>\n",
       "    <tr>\n",
       "      <th>abridged</th>\n",
       "      <td>92</td>\n",
       "      <td>45</td>\n",
       "      <td>36</td>\n",
       "    </tr>\n",
       "    <tr>\n",
       "      <th>absolute</th>\n",
       "      <td>198</td>\n",
       "      <td>43</td>\n",
       "      <td>186</td>\n",
       "    </tr>\n",
       "  </tbody>\n",
       "</table>\n",
       "</div>"
      ],
      "text/plain": [
       "            neg  neu   pos\n",
       "text                      \n",
       "abilities    38   28    54\n",
       "ability     185  122   301\n",
       "able       1013  538  1080\n",
       "abridged     92   45    36\n",
       "absolute    198   43   186"
      ]
     },
     "execution_count": 4,
     "metadata": {},
     "output_type": "execute_result"
    }
   ],
   "source": [
    "# Pivoting\n",
    "df_dist = pd.pivot_table(df_dist, values='score', index='text',\n",
    "                    columns='label', aggfunc='count', fill_value=0)\n",
    "\n",
    "# Change column names\n",
    "df_dist.columns.name = ''\n",
    "df_dist.rename(columns={0: 'neg', 1: 'neu', 2: 'pos'}, inplace=True)\n",
    "\n",
    "# Remove noises\n",
    "df_dist = df_dist[df_dist['pos']+df_dist['neu']+df_dist['neg'] > 100]\n",
    "\n",
    "df_dist.head()"
   ]
  },
  {
   "cell_type": "code",
   "execution_count": 5,
   "id": "bcf1bade",
   "metadata": {
    "scrolled": false
   },
   "outputs": [
    {
     "data": {
      "text/html": [
       "<div>\n",
       "<style scoped>\n",
       "    .dataframe tbody tr th:only-of-type {\n",
       "        vertical-align: middle;\n",
       "    }\n",
       "\n",
       "    .dataframe tbody tr th {\n",
       "        vertical-align: top;\n",
       "    }\n",
       "\n",
       "    .dataframe thead th {\n",
       "        text-align: right;\n",
       "    }\n",
       "</style>\n",
       "<table border=\"1\" class=\"dataframe\">\n",
       "  <thead>\n",
       "    <tr style=\"text-align: right;\">\n",
       "      <th></th>\n",
       "      <th>neg</th>\n",
       "      <th>neu</th>\n",
       "      <th>pos</th>\n",
       "      <th>neg_ratio</th>\n",
       "      <th>neu_ratio</th>\n",
       "      <th>pos_ratio</th>\n",
       "    </tr>\n",
       "    <tr>\n",
       "      <th>text</th>\n",
       "      <th></th>\n",
       "      <th></th>\n",
       "      <th></th>\n",
       "      <th></th>\n",
       "      <th></th>\n",
       "      <th></th>\n",
       "    </tr>\n",
       "  </thead>\n",
       "  <tbody>\n",
       "    <tr>\n",
       "      <th>abilities</th>\n",
       "      <td>38</td>\n",
       "      <td>28</td>\n",
       "      <td>54</td>\n",
       "      <td>0.32</td>\n",
       "      <td>0.23</td>\n",
       "      <td>0.45</td>\n",
       "    </tr>\n",
       "    <tr>\n",
       "      <th>ability</th>\n",
       "      <td>185</td>\n",
       "      <td>122</td>\n",
       "      <td>301</td>\n",
       "      <td>0.30</td>\n",
       "      <td>0.20</td>\n",
       "      <td>0.49</td>\n",
       "    </tr>\n",
       "    <tr>\n",
       "      <th>able</th>\n",
       "      <td>1013</td>\n",
       "      <td>538</td>\n",
       "      <td>1080</td>\n",
       "      <td>0.39</td>\n",
       "      <td>0.20</td>\n",
       "      <td>0.41</td>\n",
       "    </tr>\n",
       "    <tr>\n",
       "      <th>abridged</th>\n",
       "      <td>92</td>\n",
       "      <td>45</td>\n",
       "      <td>36</td>\n",
       "      <td>0.53</td>\n",
       "      <td>0.26</td>\n",
       "      <td>0.21</td>\n",
       "    </tr>\n",
       "    <tr>\n",
       "      <th>absolute</th>\n",
       "      <td>198</td>\n",
       "      <td>43</td>\n",
       "      <td>186</td>\n",
       "      <td>0.46</td>\n",
       "      <td>0.10</td>\n",
       "      <td>0.44</td>\n",
       "    </tr>\n",
       "  </tbody>\n",
       "</table>\n",
       "</div>"
      ],
      "text/plain": [
       "            neg  neu   pos  neg_ratio  neu_ratio  pos_ratio\n",
       "text                                                       \n",
       "abilities    38   28    54       0.32       0.23       0.45\n",
       "ability     185  122   301       0.30       0.20       0.49\n",
       "able       1013  538  1080       0.39       0.20       0.41\n",
       "abridged     92   45    36       0.53       0.26       0.21\n",
       "absolute    198   43   186       0.46       0.10       0.44"
      ]
     },
     "execution_count": 5,
     "metadata": {},
     "output_type": "execute_result"
    }
   ],
   "source": [
    "def calc_ratio(label_name):\n",
    "    df_dist[f'{label_name}_ratio'] = (df_dist[label_name]\n",
    "                                      / (df_dist['neg']+df_dist['neu']+df_dist['pos'])).round(3)\n",
    "\n",
    "# Calculate the ratio\n",
    "for label_name in df_dist.columns.tolist():\n",
    "    calc_ratio(label_name)\n",
    "\n",
    "df_dist.head()"
   ]
  },
  {
   "cell_type": "code",
   "execution_count": 6,
   "id": "c308723f",
   "metadata": {},
   "outputs": [
    {
     "data": {
      "text/html": [
       "<div>\n",
       "<style scoped>\n",
       "    .dataframe tbody tr th:only-of-type {\n",
       "        vertical-align: middle;\n",
       "    }\n",
       "\n",
       "    .dataframe tbody tr th {\n",
       "        vertical-align: top;\n",
       "    }\n",
       "\n",
       "    .dataframe thead th {\n",
       "        text-align: right;\n",
       "    }\n",
       "</style>\n",
       "<table border=\"1\" class=\"dataframe\">\n",
       "  <thead>\n",
       "    <tr style=\"text-align: right;\">\n",
       "      <th></th>\n",
       "      <th>text</th>\n",
       "      <th>neg_ratio</th>\n",
       "      <th>neu_ratio</th>\n",
       "      <th>pos_ratio</th>\n",
       "    </tr>\n",
       "  </thead>\n",
       "  <tbody>\n",
       "    <tr>\n",
       "      <th>0</th>\n",
       "      <td>abilities</td>\n",
       "      <td>0.32</td>\n",
       "      <td>0.23</td>\n",
       "      <td>0.45</td>\n",
       "    </tr>\n",
       "    <tr>\n",
       "      <th>1</th>\n",
       "      <td>ability</td>\n",
       "      <td>0.30</td>\n",
       "      <td>0.20</td>\n",
       "      <td>0.49</td>\n",
       "    </tr>\n",
       "    <tr>\n",
       "      <th>2</th>\n",
       "      <td>able</td>\n",
       "      <td>0.39</td>\n",
       "      <td>0.20</td>\n",
       "      <td>0.41</td>\n",
       "    </tr>\n",
       "    <tr>\n",
       "      <th>3</th>\n",
       "      <td>abridged</td>\n",
       "      <td>0.53</td>\n",
       "      <td>0.26</td>\n",
       "      <td>0.21</td>\n",
       "    </tr>\n",
       "    <tr>\n",
       "      <th>4</th>\n",
       "      <td>absolute</td>\n",
       "      <td>0.46</td>\n",
       "      <td>0.10</td>\n",
       "      <td>0.44</td>\n",
       "    </tr>\n",
       "  </tbody>\n",
       "</table>\n",
       "</div>"
      ],
      "text/plain": [
       "        text  neg_ratio  neu_ratio  pos_ratio\n",
       "0  abilities       0.32       0.23       0.45\n",
       "1    ability       0.30       0.20       0.49\n",
       "2       able       0.39       0.20       0.41\n",
       "3   abridged       0.53       0.26       0.21\n",
       "4   absolute       0.46       0.10       0.44"
      ]
     },
     "execution_count": 6,
     "metadata": {},
     "output_type": "execute_result"
    }
   ],
   "source": [
    "df_dist.drop(columns=['neg', 'neu', 'pos'], inplace=True)\n",
    "df_dist.reset_index(inplace=True)\n",
    "df_dist.head()"
   ]
  },
  {
   "cell_type": "code",
   "execution_count": 7,
   "id": "70f69f83",
   "metadata": {
    "scrolled": true
   },
   "outputs": [
    {
     "data": {
      "image/png": "[encoded data removed]",
      "text/plain": [
       "<Figure size 1008x288 with 3 Axes>"
      ]
     },
     "metadata": {},
     "output_type": "display_data"
    }
   ],
   "source": [
    "# Visualize in histogram\n",
    "fig, (ax0, ax1, ax2) = plt.subplots(1, 3, figsize=(14, 4))\n",
    "\n",
    "fig.suptitle(\"Distribution of the Words' Ratio\", fontsize=16)\n",
    "\n",
    "# Negative\n",
    "sns.histplot(data=df_dist[['text', 'neg_ratio']], x='neg_ratio',\n",
    "             stat='percent', ax=ax0, bins=10,\n",
    "             color=sns.color_palette('Reds', n_colors=5)[4])\n",
    "ax0.set_xlabel('Negative Ratio')\n",
    "ax0.set_ylabel(None)\n",
    "ax0.set_xticks(np.arange(0, 1.1, 0.1))\n",
    "\n",
    "# Neutral\n",
    "sns.histplot(data=df_dist[['text', 'neu_ratio']], x='neu_ratio',\n",
    "             stat='percent', ax=ax1, bins=10,\n",
    "             color=(0.6, 0.6, 0.6))\n",
    "ax1.set_xlabel('Neutral Ratio')\n",
    "ax1.set_ylabel(None)\n",
    "ax1.set_xticks(np.arange(0, 1.1, 0.1))\n",
    "\n",
    "# Positive\n",
    "sns.histplot(data=df_dist[['text', 'pos_ratio']], x='pos_ratio',\n",
    "             stat='percent', ax=ax2, bins=10,\n",
    "             color=sns.color_palette('Blues', n_colors=5)[4])\n",
    "ax2.set_xlabel('Posivite Ratio')\n",
    "ax2.set_ylabel(None)\n",
    "ax2.set_xticks(np.arange(0, 1.1, 0.1))\n",
    "\n",
    "plt.show()\n",
    "\n",
    "# Save as a transparent image\n",
    "fig.savefig('density_of_words.png', transparent=True)"
   ]
  },
  {
   "cell_type": "markdown",
   "id": "ccb77b3e",
   "metadata": {},
   "source": [
    "## The Most Frequent Positive/Negative Word"
   ]
  },
  {
   "cell_type": "code",
   "execution_count": 8,
   "id": "981d3eaa",
   "metadata": {},
   "outputs": [],
   "source": [
    "def show_frequent_words(word_list, is_pos):\n",
    "    df_words = df_data.copy()\n",
    "\n",
    "    # Filtering the words\n",
    "    df_words = df_words[df_words['text'].isin(word_list)]\n",
    "\n",
    "    df_words.reset_index(inplace=True)\n",
    "    df_words.drop(columns='index', inplace=True)\n",
    "\n",
    "    # 100% for each text\n",
    "    df_words = (df_words.groupby(['text','score'])['text'].count()\n",
    "                / df_words.groupby(['text'])['text'].count()).to_frame('ratio')\n",
    "\n",
    "    df_words.reset_index(inplace=True)\n",
    "    \n",
    "    # Ordering\n",
    "    peak_score = 5 if is_pos else 1\n",
    "    order_list = df_words[df_words['score'] == peak_score]\\\n",
    "                        .nlargest(df_words.shape[0]//5, 'ratio')['text']\n",
    "    df_words['text'] = pd.Categorical(df_words['text'], order_list)\n",
    "    \n",
    "    # Visualize in box graph (in stack)\n",
    "    fig, ax = plt.subplots(figsize=(15, 6))\n",
    "    \n",
    "    if is_pos:\n",
    "        colors = sns.color_palette('Blues', 5)\n",
    "    else:\n",
    "        colors = list(reversed(sns.color_palette('Reds', 5)))\n",
    "    \n",
    "    sns.barplot(data=df_words,\n",
    "                 x='text', y='ratio', hue=\"score\", palette=colors)\n",
    "\n",
    "    ax.set_title(f\"The Most Frequent {'Positive' if is_pos else 'Negative'} Word\")\n",
    "    ax.set_xlabel(None)\n",
    "    ax.set_ylabel(None)\n",
    "\n",
    "    plt.show()\n",
    "    \n",
    "    # Save as a transparent image\n",
    "    fig.savefig(f\"freq_words_{'pos' if is_pos else 'neg'}.png\", transparent=True)"
   ]
  },
  {
   "cell_type": "code",
   "execution_count": 9,
   "id": "fa72cb27",
   "metadata": {},
   "outputs": [
    {
     "name": "stdout",
     "output_type": "stream",
     "text": [
      "10 ['awsome', 'timeless', 'captures', 'matilda', 'underrated', 'delightful', 'pleasantly', 'breathtaking', 'awesome', 'affordable']\n"
     ]
    },
    {
     "data": {
      "image/png": "[encoded data removed]",
      "text/plain": [
       "<Figure size 1080x432 with 1 Axes>"
      ]
     },
     "metadata": {},
     "output_type": "display_data"
    }
   ],
   "source": [
    "positive_words = list(df_dist.nlargest(10, 'pos_ratio')['text'])\n",
    "print(len(positive_words), positive_words)\n",
    "\n",
    "show_frequent_words(positive_words, True)"
   ]
  },
  {
   "cell_type": "code",
   "execution_count": 10,
   "id": "be05b59f",
   "metadata": {
    "scrolled": false
   },
   "outputs": [
    {
     "name": "stdout",
     "output_type": "stream",
     "text": [
      "10 ['waste', 'drivel', 'junk', 'yuck', 'worthless', 'refund', 'redeeming', 'ugh', 'rubbish', 'uninteresting']\n"
     ]
    },
    {
     "data": {
      "image/png": "[encoded data removed]",
      "text/plain": [
       "<Figure size 1080x432 with 1 Axes>"
      ]
     },
     "metadata": {},
     "output_type": "display_data"
    }
   ],
   "source": [
    "negative_words = list(df_dist.nlargest(10, 'neg_ratio')['text'])\n",
    "print(len(negative_words), negative_words)\n",
    "\n",
    "show_frequent_words(negative_words, False)"
   ]
  }
 ],
 "metadata": {
  "kernelspec": {
   "display_name": "Python 3 (ipykernel)",
   "language": "python",
   "name": "python3"
  },
  "language_info": {
   "codemirror_mode": {
    "name": "ipython",
    "version": 3
   },
   "file_extension": ".py",
   "mimetype": "text/x-python",
   "name": "python",
   "nbconvert_exporter": "python",
   "pygments_lexer": "ipython3",
   "version": "3.8.10"
  }
 },
 "nbformat": 4,
 "nbformat_minor": 5
}
